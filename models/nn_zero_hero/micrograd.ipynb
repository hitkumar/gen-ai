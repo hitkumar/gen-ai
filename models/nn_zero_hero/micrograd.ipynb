{
 "cells": [
  {
   "cell_type": "code",
   "execution_count": 1,
   "metadata": {},
   "outputs": [],
   "source": [
    "import math\n",
    "import numpy as np\n",
    "import matplotlib.pyplot as plt\n",
    "%matplotlib inline "
   ]
  },
  {
   "cell_type": "code",
   "execution_count": 2,
   "metadata": {},
   "outputs": [],
   "source": [
    "def f(x):\n",
    "    return 3*x**2 - 4*x + 5"
   ]
  },
  {
   "cell_type": "code",
   "execution_count": 3,
   "metadata": {},
   "outputs": [
    {
     "data": {
      "text/plain": [
       "20.0"
      ]
     },
     "execution_count": 3,
     "metadata": {},
     "output_type": "execute_result"
    }
   ],
   "source": [
    "f(3.0)"
   ]
  },
  {
   "cell_type": "code",
   "execution_count": 4,
   "metadata": {},
   "outputs": [
    {
     "data": {
      "text/plain": [
       "[<matplotlib.lines.Line2D at 0x7fc6f8296df0>]"
      ]
     },
     "execution_count": 4,
     "metadata": {},
     "output_type": "execute_result"
    },
    {
     "data": {
      "image/png": "[encoded data removed]",
      "text/plain": [
       "<Figure size 432x288 with 1 Axes>"
      ]
     },
     "metadata": {
      "needs_background": "light"
     },
     "output_type": "display_data"
    }
   ],
   "source": [
    "xs = np.arange(-5, 5, 0.25)\n",
    "ys = f(xs)\n",
    "plt.plot(xs, ys)"
   ]
  },
  {
   "cell_type": "code",
   "execution_count": 57,
   "metadata": {},
   "outputs": [],
   "source": [
    "class Value:\n",
    "    def __init__(self, data, _children=(), _op='', label=''):\n",
    "        self.data = data\n",
    "        self._prev = set(_children)\n",
    "        self._op = _op\n",
    "        self.label = label\n",
    "        self.grad = 0.0\n",
    "        self._backward = lambda: None\n",
    "    \n",
    "    def __repr__(self):\n",
    "        return f\"Value(data={self.data}, label={self.label})\"\n",
    "    \n",
    "    def __add__(self, other):\n",
    "        other = other if isinstance(other, Value) else Value(other)\n",
    "        out = Value(self.data + other.data, (self, other), '+')\n",
    "        def _backward():\n",
    "            self.grad += 1.0 * out.grad\n",
    "            other.grad += 1.0 * out.grad\n",
    "        \n",
    "        out._backward = _backward\n",
    "        return out\n",
    "    \n",
    "    def __mul__(self, other):\n",
    "        other = other if isinstance(other, Value) else Value(other)\n",
    "        out = Value(self.data * other.data, (self, other), '*')\n",
    "        def _backward():\n",
    "            self.grad += other.data * out.grad\n",
    "            other.grad += self.data * out.grad\n",
    "        \n",
    "        out._backward = _backward\n",
    "        return out\n",
    "    \n",
    "    def __rmul__(self, other):\n",
    "        return self * other\n",
    "    \n",
    "    def tanh(self):\n",
    "        x = self.data\n",
    "        # print(f\"x is {x}\")\n",
    "        t = (math.exp(2*x) - 1) / (math.exp(2*x) + 1)\n",
    "        out = Value(t, (self, ), 'tanh')\n",
    "\n",
    "        def _backward():\n",
    "            self.grad += (1 - t**2) * out.grad\n",
    "        \n",
    "        out._backward = _backward\n",
    "        return out\n",
    "    \n",
    "    def exp(self):\n",
    "        x = self.data\n",
    "        out = Value(math.exp(x), (self, ), 'exp')\n",
    "\n",
    "        def _backward():\n",
    "            self.grad += out.data * out.grad\n",
    "        \n",
    "        out._backward = _backward\n",
    "        return out\n",
    "    \n",
    "    def __pow__(self, k):\n",
    "        x = self.data\n",
    "        out = Value(x**k, (self, ), f'**{k}')\n",
    "\n",
    "        def _backward():\n",
    "            self.grad += k * x**(k-1) * out.grad\n",
    "        \n",
    "        out._backward = _backward\n",
    "        return out\n",
    "    \n",
    "    def __truediv__(self, other):\n",
    "        return self * other**-1\n",
    "    \n",
    "    def __sub__(self, other):\n",
    "        return self + (-other)\n",
    "    \n",
    "    def __neg__(self):\n",
    "        return self * -1\n",
    "    \n",
    "    def __radd__(self, other):\n",
    "        return self + other\n",
    "    \n",
    "    def backward(self):\n",
    "        self.grad = 1.0\n",
    "        topo = []\n",
    "        visited = set()\n",
    "        def build_topo(v):\n",
    "            if v not in visited:\n",
    "                visited.add(v)\n",
    "            for child in v._prev:\n",
    "                build_topo(child)\n",
    "            topo.append(v)\n",
    "        \n",
    "        build_topo(self)\n",
    "        for node in reversed(topo):\n",
    "            node._backward()\n",
    "            \n"
   ]
  },
  {
   "cell_type": "code",
   "execution_count": 6,
   "metadata": {},
   "outputs": [
    {
     "data": {
      "text/plain": [
       "Value(data=4.0, label=)"
      ]
     },
     "execution_count": 6,
     "metadata": {},
     "output_type": "execute_result"
    }
   ],
   "source": [
    "v = Value(2.0)\n",
    "2 * v"
   ]
  },
  {
   "cell_type": "code",
   "execution_count": 7,
   "metadata": {},
   "outputs": [
    {
     "data": {
      "text/plain": [
       "Value(data=7.38905609893065, label=)"
      ]
     },
     "execution_count": 7,
     "metadata": {},
     "output_type": "execute_result"
    }
   ],
   "source": [
    "v1 = v.exp()\n",
    "v1"
   ]
  },
  {
   "cell_type": "code",
   "execution_count": 8,
   "metadata": {},
   "outputs": [],
   "source": [
    "v2 = v**3"
   ]
  },
  {
   "cell_type": "code",
   "execution_count": 9,
   "metadata": {},
   "outputs": [
    {
     "data": {
      "text/plain": [
       "Value(data=4.0, label=)"
      ]
     },
     "execution_count": 9,
     "metadata": {},
     "output_type": "execute_result"
    }
   ],
   "source": [
    "v2 / v"
   ]
  },
  {
   "cell_type": "code",
   "execution_count": 10,
   "metadata": {},
   "outputs": [
    {
     "data": {
      "text/plain": [
       "Value(data=6.0, label=)"
      ]
     },
     "execution_count": 10,
     "metadata": {},
     "output_type": "execute_result"
    }
   ],
   "source": [
    "v2 - v"
   ]
  },
  {
   "cell_type": "code",
   "execution_count": 11,
   "metadata": {},
   "outputs": [
    {
     "data": {
      "text/plain": [
       "Value(data=-8.0, label=L)"
      ]
     },
     "execution_count": 11,
     "metadata": {},
     "output_type": "execute_result"
    }
   ],
   "source": [
    "a = Value(2.0, label='a')\n",
    "b = Value(-3.0, label='b')\n",
    "c = Value(10, label='c')\n",
    "e = a*b; e.label='e'\n",
    "d = e + c; d.label='d'\n",
    "\n",
    "f = Value(-2.0, label='f')\n",
    "L = d*f; L.label = 'L'\n",
    "L"
   ]
  },
  {
   "cell_type": "code",
   "execution_count": 12,
   "metadata": {},
   "outputs": [
    {
     "data": {
      "text/plain": [
       "{Value(data=-6.0, label=e), Value(data=10, label=c)}"
      ]
     },
     "execution_count": 12,
     "metadata": {},
     "output_type": "execute_result"
    }
   ],
   "source": [
    " d._prev"
   ]
  },
  {
   "cell_type": "code",
   "execution_count": 13,
   "metadata": {},
   "outputs": [
    {
     "data": {
      "text/plain": [
       "'+'"
      ]
     },
     "execution_count": 13,
     "metadata": {},
     "output_type": "execute_result"
    }
   ],
   "source": [
    "d._op"
   ]
  },
  {
   "cell_type": "code",
   "execution_count": 14,
   "metadata": {},
   "outputs": [],
   "source": [
    "# !pip install graphviz"
   ]
  },
  {
   "cell_type": "code",
   "execution_count": 15,
   "metadata": {},
   "outputs": [],
   "source": [
    "from graphviz import Digraph\n",
    "\n",
    "def trace(root):\n",
    "    nodes, edges = set(), set()\n",
    "    def build(v):\n",
    "        if v not in nodes:\n",
    "            nodes.add(v)\n",
    "            for child in v._prev:\n",
    "                edges.add((child, v))\n",
    "                build(child)\n",
    "    \n",
    "    build(root)\n",
    "    return nodes, edges\n",
    "\n",
    "def draw_dot(root):\n",
    "    dot = Digraph(format='svg', graph_attr={'rankdir': 'LR'}) # left to right\n",
    "\n",
    "    nodes, edges = trace(root)\n",
    "    for n in nodes:\n",
    "        uid = str(id(n))\n",
    "        dot.node(name = uid, label = \"{ %s | data %.4f | grad %.4f}\" % (n.label, n.data, n.grad), shape='record')\n",
    "        if n._op:\n",
    "            dot.node(name = uid + n._op, label=n._op)\n",
    "            dot.edge(uid + n._op, uid)\n",
    "    \n",
    "    for n1, n2 in edges:\n",
    "        dot.edge(str(id(n1)), str(id(n2)) + n2._op)\n",
    "    \n",
    "    return dot"
   ]
  },
  {
   "cell_type": "code",
   "execution_count": 16,
   "metadata": {},
   "outputs": [
    {
     "data": {
      "text/plain": [
       "({Value(data=-2.0, label=f),\n",
       "  Value(data=-3.0, label=b),\n",
       "  Value(data=-6.0, label=e),\n",
       "  Value(data=-8.0, label=L),\n",
       "  Value(data=10, label=c),\n",
       "  Value(data=2.0, label=a),\n",
       "  Value(data=4.0, label=d)},\n",
       " {(Value(data=-2.0, label=f), Value(data=-8.0, label=L)),\n",
       "  (Value(data=-3.0, label=b), Value(data=-6.0, label=e)),\n",
       "  (Value(data=-6.0, label=e), Value(data=4.0, label=d)),\n",
       "  (Value(data=10, label=c), Value(data=4.0, label=d)),\n",
       "  (Value(data=2.0, label=a), Value(data=-6.0, label=e)),\n",
       "  (Value(data=4.0, label=d), Value(data=-8.0, label=L))})"
      ]
     },
     "execution_count": 16,
     "metadata": {},
     "output_type": "execute_result"
    }
   ],
   "source": [
    "trace(L)"
   ]
  },
  {
   "cell_type": "code",
   "execution_count": 17,
   "metadata": {},
   "outputs": [
    {
     "data": {
      "text/plain": [
       "'140492048720080'"
      ]
     },
     "execution_count": 17,
     "metadata": {},
     "output_type": "execute_result"
    }
   ],
   "source": [
    "str(id(a))"
   ]
  },
  {
   "cell_type": "code",
   "execution_count": 18,
   "metadata": {},
   "outputs": [
    {
     "data": {
      "image/svg+xml": [
       "<?xml version=\"1.0\" encoding=\"UTF-8\" standalone=\"no\"?>\n",
       "<!DOCTYPE svg PUBLIC \"-//W3C//DTD SVG 1.1//EN\"\n",
       " \"http://www.w3.org/Graphics/SVG/1.1/DTD/svg11.dtd\">\n",
       "<!-- Generated by graphviz version 7.0.4 (20221203.1631)\n",
       " -->\n",
       "<!-- Pages: 1 -->\n",
       "<svg width=\"1148pt\" height=\"156pt\"\n",
       " viewBox=\"0.00 0.00 1148.00 156.00\" xmlns=\"http://www.w3.org/2000/svg\" xmlns:xlink=\"http://www.w3.org/1999/xlink\">\n",
       "<g id=\"graph0\" class=\"graph\" transform=\"scale(1 1) rotate(0) translate(4 152)\">\n",
       "<polygon fill=\"white\" stroke=\"none\" points=\"-4,4 -4,-152 1144,-152 1144,4 -4,4\"/>\n",
       "<!-- 140492048722432 -->\n",
       "<g id=\"node1\" class=\"node\">\n",
       "<title>140492048722432</title>\n",
       "<polygon fill=\"none\" stroke=\"black\" points=\"0,-111.5 0,-147.5 190,-147.5 190,-111.5 0,-111.5\"/>\n",
       "<text text-anchor=\"middle\" x=\"11.5\" y=\"-125.8\" font-family=\"Times,serif\" font-size=\"14.00\">b</text>\n",
       "<polyline fill=\"none\" stroke=\"black\" points=\"23,-111.5 23,-147.5\"/>\n",
       "<text text-anchor=\"middle\" x=\"65.5\" y=\"-125.8\" font-family=\"Times,serif\" font-size=\"14.00\">data &#45;3.0000</text>\n",
       "<polyline fill=\"none\" stroke=\"black\" points=\"108,-111.5 108,-147.5\"/>\n",
       "<text text-anchor=\"middle\" x=\"149\" y=\"-125.8\" font-family=\"Times,serif\" font-size=\"14.00\">grad 0.0000</text>\n",
       "</g>\n",
       "<!-- 140492048720848* -->\n",
       "<g id=\"node10\" class=\"node\">\n",
       "<title>140492048720848*</title>\n",
       "<ellipse fill=\"none\" stroke=\"black\" cx=\"253\" cy=\"-101.5\" rx=\"27\" ry=\"18\"/>\n",
       "<text text-anchor=\"middle\" x=\"253\" y=\"-97.8\" font-family=\"Times,serif\" font-size=\"14.00\">*</text>\n",
       "</g>\n",
       "<!-- 140492048722432&#45;&gt;140492048720848* -->\n",
       "<g id=\"edge5\" class=\"edge\">\n",
       "<title>140492048722432&#45;&gt;140492048720848*</title>\n",
       "<path fill=\"none\" stroke=\"black\" d=\"M189.9,-112.65C198.81,-111.05 207.43,-109.5 215.28,-108.09\"/>\n",
       "<polygon fill=\"black\" stroke=\"black\" points=\"215.8,-111.55 225.02,-106.34 214.56,-104.66 215.8,-111.55\"/>\n",
       "</g>\n",
       "<!-- 140492048720080 -->\n",
       "<g id=\"node2\" class=\"node\">\n",
       "<title>140492048720080</title>\n",
       "<polygon fill=\"none\" stroke=\"black\" points=\"2.5,-56.5 2.5,-92.5 187.5,-92.5 187.5,-56.5 2.5,-56.5\"/>\n",
       "<text text-anchor=\"middle\" x=\"14\" y=\"-70.8\" font-family=\"Times,serif\" font-size=\"14.00\">a</text>\n",
       "<polyline fill=\"none\" stroke=\"black\" points=\"25.5,-56.5 25.5,-92.5\"/>\n",
       "<text text-anchor=\"middle\" x=\"65.5\" y=\"-70.8\" font-family=\"Times,serif\" font-size=\"14.00\">data 2.0000</text>\n",
       "<polyline fill=\"none\" stroke=\"black\" points=\"105.5,-56.5 105.5,-92.5\"/>\n",
       "<text text-anchor=\"middle\" x=\"146.5\" y=\"-70.8\" font-family=\"Times,serif\" font-size=\"14.00\">grad 0.0000</text>\n",
       "</g>\n",
       "<!-- 140492048720080&#45;&gt;140492048720848* -->\n",
       "<g id=\"edge4\" class=\"edge\">\n",
       "<title>140492048720080&#45;&gt;140492048720848*</title>\n",
       "<path fill=\"none\" stroke=\"black\" d=\"M187.2,-90.28C197.1,-92 206.71,-93.66 215.36,-95.16\"/>\n",
       "<polygon fill=\"black\" stroke=\"black\" points=\"214.57,-98.57 225.02,-96.83 215.76,-91.68 214.57,-98.57\"/>\n",
       "</g>\n",
       "<!-- 140492048720128 -->\n",
       "<g id=\"node3\" class=\"node\">\n",
       "<title>140492048720128</title>\n",
       "<polygon fill=\"none\" stroke=\"black\" points=\"316,-28.5 316,-64.5 508,-64.5 508,-28.5 316,-28.5\"/>\n",
       "<text text-anchor=\"middle\" x=\"327.5\" y=\"-42.8\" font-family=\"Times,serif\" font-size=\"14.00\">c</text>\n",
       "<polyline fill=\"none\" stroke=\"black\" points=\"339,-28.5 339,-64.5\"/>\n",
       "<text text-anchor=\"middle\" x=\"382.5\" y=\"-42.8\" font-family=\"Times,serif\" font-size=\"14.00\">data 10.0000</text>\n",
       "<polyline fill=\"none\" stroke=\"black\" points=\"426,-28.5 426,-64.5\"/>\n",
       "<text text-anchor=\"middle\" x=\"467\" y=\"-42.8\" font-family=\"Times,serif\" font-size=\"14.00\">grad 0.0000</text>\n",
       "</g>\n",
       "<!-- 140492048721232+ -->\n",
       "<g id=\"node5\" class=\"node\">\n",
       "<title>140492048721232+</title>\n",
       "<ellipse fill=\"none\" stroke=\"black\" cx=\"571\" cy=\"-73.5\" rx=\"27\" ry=\"18\"/>\n",
       "<text text-anchor=\"middle\" x=\"571\" y=\"-69.8\" font-family=\"Times,serif\" font-size=\"14.00\">+</text>\n",
       "</g>\n",
       "<!-- 140492048720128&#45;&gt;140492048721232+ -->\n",
       "<g id=\"edge7\" class=\"edge\">\n",
       "<title>140492048720128&#45;&gt;140492048721232+</title>\n",
       "<path fill=\"none\" stroke=\"black\" d=\"M507.95,-62.83C516.87,-64.36 525.49,-65.85 533.33,-67.19\"/>\n",
       "<polygon fill=\"black\" stroke=\"black\" points=\"532.62,-70.62 543.07,-68.87 533.8,-63.72 532.62,-70.62\"/>\n",
       "</g>\n",
       "<!-- 140492048721232 -->\n",
       "<g id=\"node4\" class=\"node\">\n",
       "<title>140492048721232</title>\n",
       "<polygon fill=\"none\" stroke=\"black\" points=\"635.5,-55.5 635.5,-91.5 820.5,-91.5 820.5,-55.5 635.5,-55.5\"/>\n",
       "<text text-anchor=\"middle\" x=\"647\" y=\"-69.8\" font-family=\"Times,serif\" font-size=\"14.00\">d</text>\n",
       "<polyline fill=\"none\" stroke=\"black\" points=\"658.5,-55.5 658.5,-91.5\"/>\n",
       "<text text-anchor=\"middle\" x=\"698.5\" y=\"-69.8\" font-family=\"Times,serif\" font-size=\"14.00\">data 4.0000</text>\n",
       "<polyline fill=\"none\" stroke=\"black\" points=\"738.5,-55.5 738.5,-91.5\"/>\n",
       "<text text-anchor=\"middle\" x=\"779.5\" y=\"-69.8\" font-family=\"Times,serif\" font-size=\"14.00\">grad 0.0000</text>\n",
       "</g>\n",
       "<!-- 140492048608656* -->\n",
       "<g id=\"node7\" class=\"node\">\n",
       "<title>140492048608656*</title>\n",
       "<ellipse fill=\"none\" stroke=\"black\" cx=\"885\" cy=\"-45.5\" rx=\"27\" ry=\"18\"/>\n",
       "<text text-anchor=\"middle\" x=\"885\" y=\"-41.8\" font-family=\"Times,serif\" font-size=\"14.00\">*</text>\n",
       "</g>\n",
       "<!-- 140492048721232&#45;&gt;140492048608656* -->\n",
       "<g id=\"edge6\" class=\"edge\">\n",
       "<title>140492048721232&#45;&gt;140492048608656*</title>\n",
       "<path fill=\"none\" stroke=\"black\" d=\"M820.06,-57.05C829.65,-55.32 838.94,-53.64 847.35,-52.12\"/>\n",
       "<polygon fill=\"black\" stroke=\"black\" points=\"847.86,-55.59 857.08,-50.36 846.61,-48.7 847.86,-55.59\"/>\n",
       "</g>\n",
       "<!-- 140492048721232+&#45;&gt;140492048721232 -->\n",
       "<g id=\"edge1\" class=\"edge\">\n",
       "<title>140492048721232+&#45;&gt;140492048721232</title>\n",
       "<path fill=\"none\" stroke=\"black\" d=\"M598.29,-73.5C605.99,-73.5 614.91,-73.5 624.39,-73.5\"/>\n",
       "<polygon fill=\"black\" stroke=\"black\" points=\"624.22,-77 634.22,-73.5 624.22,-70 624.22,-77\"/>\n",
       "</g>\n",
       "<!-- 140492048608656 -->\n",
       "<g id=\"node6\" class=\"node\">\n",
       "<title>140492048608656</title>\n",
       "<polygon fill=\"none\" stroke=\"black\" points=\"948,-27.5 948,-63.5 1140,-63.5 1140,-27.5 948,-27.5\"/>\n",
       "<text text-anchor=\"middle\" x=\"960.5\" y=\"-41.8\" font-family=\"Times,serif\" font-size=\"14.00\">L</text>\n",
       "<polyline fill=\"none\" stroke=\"black\" points=\"973,-27.5 973,-63.5\"/>\n",
       "<text text-anchor=\"middle\" x=\"1015.5\" y=\"-41.8\" font-family=\"Times,serif\" font-size=\"14.00\">data &#45;8.0000</text>\n",
       "<polyline fill=\"none\" stroke=\"black\" points=\"1058,-27.5 1058,-63.5\"/>\n",
       "<text text-anchor=\"middle\" x=\"1099\" y=\"-41.8\" font-family=\"Times,serif\" font-size=\"14.00\">grad 0.0000</text>\n",
       "</g>\n",
       "<!-- 140492048608656*&#45;&gt;140492048608656 -->\n",
       "<g id=\"edge2\" class=\"edge\">\n",
       "<title>140492048608656*&#45;&gt;140492048608656</title>\n",
       "<path fill=\"none\" stroke=\"black\" d=\"M912.28,-45.5C919.52,-45.5 927.85,-45.5 936.72,-45.5\"/>\n",
       "<polygon fill=\"black\" stroke=\"black\" points=\"936.69,-49 946.69,-45.5 936.69,-42 936.69,-49\"/>\n",
       "</g>\n",
       "<!-- 140492048720320 -->\n",
       "<g id=\"node8\" class=\"node\">\n",
       "<title>140492048720320</title>\n",
       "<polygon fill=\"none\" stroke=\"black\" points=\"634,-0.5 634,-36.5 822,-36.5 822,-0.5 634,-0.5\"/>\n",
       "<text text-anchor=\"middle\" x=\"644.5\" y=\"-14.8\" font-family=\"Times,serif\" font-size=\"14.00\">f</text>\n",
       "<polyline fill=\"none\" stroke=\"black\" points=\"655,-0.5 655,-36.5\"/>\n",
       "<text text-anchor=\"middle\" x=\"697.5\" y=\"-14.8\" font-family=\"Times,serif\" font-size=\"14.00\">data &#45;2.0000</text>\n",
       "<polyline fill=\"none\" stroke=\"black\" points=\"740,-0.5 740,-36.5\"/>\n",
       "<text text-anchor=\"middle\" x=\"781\" y=\"-14.8\" font-family=\"Times,serif\" font-size=\"14.00\">grad 0.0000</text>\n",
       "</g>\n",
       "<!-- 140492048720320&#45;&gt;140492048608656* -->\n",
       "<g id=\"edge8\" class=\"edge\">\n",
       "<title>140492048720320&#45;&gt;140492048608656*</title>\n",
       "<path fill=\"none\" stroke=\"black\" d=\"M821.85,-34.67C830.75,-36.22 839.38,-37.73 847.22,-39.09\"/>\n",
       "<polygon fill=\"black\" stroke=\"black\" points=\"846.53,-42.53 856.98,-40.79 847.73,-35.63 846.53,-42.53\"/>\n",
       "</g>\n",
       "<!-- 140492048720848 -->\n",
       "<g id=\"node9\" class=\"node\">\n",
       "<title>140492048720848</title>\n",
       "<polygon fill=\"none\" stroke=\"black\" points=\"317,-83.5 317,-119.5 507,-119.5 507,-83.5 317,-83.5\"/>\n",
       "<text text-anchor=\"middle\" x=\"328.5\" y=\"-97.8\" font-family=\"Times,serif\" font-size=\"14.00\">e</text>\n",
       "<polyline fill=\"none\" stroke=\"black\" points=\"340,-83.5 340,-119.5\"/>\n",
       "<text text-anchor=\"middle\" x=\"382.5\" y=\"-97.8\" font-family=\"Times,serif\" font-size=\"14.00\">data &#45;6.0000</text>\n",
       "<polyline fill=\"none\" stroke=\"black\" points=\"425,-83.5 425,-119.5\"/>\n",
       "<text text-anchor=\"middle\" x=\"466\" y=\"-97.8\" font-family=\"Times,serif\" font-size=\"14.00\">grad 0.0000</text>\n",
       "</g>\n",
       "<!-- 140492048720848&#45;&gt;140492048721232+ -->\n",
       "<g id=\"edge9\" class=\"edge\">\n",
       "<title>140492048720848&#45;&gt;140492048721232+</title>\n",
       "<path fill=\"none\" stroke=\"black\" d=\"M506.59,-84.81C516.06,-83.12 525.22,-81.49 533.49,-80.01\"/>\n",
       "<polygon fill=\"black\" stroke=\"black\" points=\"533.82,-83.51 543.05,-78.31 532.59,-76.62 533.82,-83.51\"/>\n",
       "</g>\n",
       "<!-- 140492048720848*&#45;&gt;140492048720848 -->\n",
       "<g id=\"edge3\" class=\"edge\">\n",
       "<title>140492048720848*&#45;&gt;140492048720848</title>\n",
       "<path fill=\"none\" stroke=\"black\" d=\"M280.28,-101.5C287.79,-101.5 296.46,-101.5 305.7,-101.5\"/>\n",
       "<polygon fill=\"black\" stroke=\"black\" points=\"305.7,-105 315.7,-101.5 305.7,-98 305.7,-105\"/>\n",
       "</g>\n",
       "</g>\n",
       "</svg>\n"
      ],
      "text/plain": [
       "<graphviz.graphs.Digraph at 0x7fc6e867ee50>"
      ]
     },
     "execution_count": 18,
     "metadata": {},
     "output_type": "execute_result"
    }
   ],
   "source": [
    "draw_dot(L)"
   ]
  },
  {
   "cell_type": "code",
   "execution_count": 19,
   "metadata": {},
   "outputs": [],
   "source": [
    "def lol():\n",
    "    a = Value(2.0, label='a')\n",
    "    b = Value(-3.0, label='b')\n",
    "    c = Value(10, label='c')\n",
    "    e = a*b; e.label='e'\n",
    "    d = e + c; d.label='d'\n",
    "\n",
    "    f = Value(-2.0, label='f')\n",
    "    L = d*f; L.label = 'L' \n"
   ]
  },
  {
   "cell_type": "code",
   "execution_count": 20,
   "metadata": {},
   "outputs": [
    {
     "data": {
      "image/png": "[encoded data removed]",
      "text/plain": [
       "<Figure size 432x288 with 1 Axes>"
      ]
     },
     "metadata": {
      "needs_background": "light"
     },
     "output_type": "display_data"
    }
   ],
   "source": [
    "plt.plot(np.arange(-5, 5, 0.2), np.tanh(np.arange(-5, 5, 0.2)))\n",
    "plt.grid()"
   ]
  },
  {
   "cell_type": "code",
   "execution_count": 21,
   "metadata": {},
   "outputs": [
    {
     "data": {
      "text/plain": [
       "Value(data=0.36114149417235686, label=)"
      ]
     },
     "execution_count": 21,
     "metadata": {},
     "output_type": "execute_result"
    }
   ],
   "source": [
    "v = Value(2)\n",
    "v.tanh()"
   ]
  },
  {
   "cell_type": "code",
   "execution_count": 22,
   "metadata": {},
   "outputs": [
    {
     "data": {
      "image/svg+xml": [
       "<?xml version=\"1.0\" encoding=\"UTF-8\" standalone=\"no\"?>\n",
       "<!DOCTYPE svg PUBLIC \"-//W3C//DTD SVG 1.1//EN\"\n",
       " \"http://www.w3.org/Graphics/SVG/1.1/DTD/svg11.dtd\">\n",
       "<!-- Generated by graphviz version 7.0.4 (20221203.1631)\n",
       " -->\n",
       "<!-- Pages: 1 -->\n",
       "<svg width=\"190pt\" height=\"45pt\"\n",
       " viewBox=\"0.00 0.00 190.00 45.00\" xmlns=\"http://www.w3.org/2000/svg\" xmlns:xlink=\"http://www.w3.org/1999/xlink\">\n",
       "<g id=\"graph0\" class=\"graph\" transform=\"scale(1 1) rotate(0) translate(4 41)\">\n",
       "<polygon fill=\"white\" stroke=\"none\" points=\"-4,4 -4,-41 186,-41 186,4 -4,4\"/>\n",
       "<!-- 140491742892624 -->\n",
       "<g id=\"node1\" class=\"node\">\n",
       "<title>140491742892624</title>\n",
       "<polygon fill=\"none\" stroke=\"black\" points=\"0,-0.5 0,-36.5 182,-36.5 182,-0.5 0,-0.5\"/>\n",
       "<text text-anchor=\"middle\" x=\"10\" y=\"-14.8\" font-family=\"Times,serif\" font-size=\"14.00\"> </text>\n",
       "<polyline fill=\"none\" stroke=\"black\" points=\"20,-0.5 20,-36.5\"/>\n",
       "<text text-anchor=\"middle\" x=\"60\" y=\"-14.8\" font-family=\"Times,serif\" font-size=\"14.00\">data 2.0000</text>\n",
       "<polyline fill=\"none\" stroke=\"black\" points=\"100,-0.5 100,-36.5\"/>\n",
       "<text text-anchor=\"middle\" x=\"141\" y=\"-14.8\" font-family=\"Times,serif\" font-size=\"14.00\">grad 0.0000</text>\n",
       "</g>\n",
       "</g>\n",
       "</svg>\n"
      ],
      "text/plain": [
       "<graphviz.graphs.Digraph at 0x7fc6e86690a0>"
      ]
     },
     "execution_count": 22,
     "metadata": {},
     "output_type": "execute_result"
    }
   ],
   "source": [
    "draw_dot(v)"
   ]
  },
  {
   "cell_type": "code",
   "execution_count": 23,
   "metadata": {},
   "outputs": [
    {
     "ename": "NameError",
     "evalue": "name 'build_topo' is not defined",
     "output_type": "error",
     "traceback": [
      "\u001b[0;31m---------------------------------------------------------------------------\u001b[0m",
      "\u001b[0;31mNameError\u001b[0m                                 Traceback (most recent call last)",
      "\u001b[1;32m/Users/htkumar/gen-ai/models/nn_zero_hero/micrograd.ipynb Cell 23\u001b[0m in \u001b[0;36m<cell line: 1>\u001b[0;34m()\u001b[0m\n\u001b[0;32m----> <a href='vscode-notebook-cell:/Users/htkumar/gen-ai/models/nn_zero_hero/micrograd.ipynb#X34sZmlsZQ%3D%3D?line=0'>1</a>\u001b[0m build_topo(L)\n\u001b[1;32m      <a href='vscode-notebook-cell:/Users/htkumar/gen-ai/models/nn_zero_hero/micrograd.ipynb#X34sZmlsZQ%3D%3D?line=1'>2</a>\u001b[0m topo\n",
      "\u001b[0;31mNameError\u001b[0m: name 'build_topo' is not defined"
     ]
    }
   ],
   "source": [
    "build_topo(L)\n",
    "topo"
   ]
  },
  {
   "cell_type": "code",
   "execution_count": null,
   "metadata": {},
   "outputs": [],
   "source": [
    "L.grad = 1\n",
    "for node in reversed(topo):\n",
    "    node._backward()"
   ]
  },
  {
   "cell_type": "code",
   "execution_count": null,
   "metadata": {},
   "outputs": [],
   "source": [
    "draw_dot(L)"
   ]
  },
  {
   "cell_type": "code",
   "execution_count": null,
   "metadata": {},
   "outputs": [],
   "source": [
    "a = Value(3.0, label='a')\n",
    "b = a + a\n",
    "b.backward()\n",
    "# a.backward()\n",
    "draw_dot(b)"
   ]
  },
  {
   "cell_type": "code",
   "execution_count": null,
   "metadata": {},
   "outputs": [],
   "source": [
    "import torch"
   ]
  },
  {
   "cell_type": "code",
   "execution_count": null,
   "metadata": {},
   "outputs": [],
   "source": [
    "x1 = torch.tensor([2.0]).double(); x1.requires_grad = True\n",
    "x2 = torch.Tensor([0.0]).double()                ; x2.requires_grad = True\n",
    "w1 = torch.Tensor([-3.0]).double()               ; w1.requires_grad = True\n",
    "w2 = torch.Tensor([1.0]).double()                ; w2.requires_grad = True\n",
    "b = torch.Tensor([6.8813735870195432]).double()  ; b.requires_grad = True\n",
    "\n",
    "output = w1*x1 + w2*x2 + b\n",
    "o = torch.tanh(output)\n",
    "print(o)\n",
    "\n",
    "o.backward()\n",
    "print(w1.grad.item())"
   ]
  },
  {
   "cell_type": "code",
   "execution_count": 67,
   "metadata": {},
   "outputs": [
    {
     "name": "stdout",
     "output_type": "stream",
     "text": [
      "\u001b[0;31mSignature:\u001b[0m \u001b[0mrandom\u001b[0m\u001b[0;34m.\u001b[0m\u001b[0muniform\u001b[0m\u001b[0;34m(\u001b[0m\u001b[0ma\u001b[0m\u001b[0;34m,\u001b[0m \u001b[0mb\u001b[0m\u001b[0;34m)\u001b[0m\u001b[0;34m\u001b[0m\u001b[0;34m\u001b[0m\u001b[0m\n",
      "\u001b[0;31mSource:\u001b[0m   \n",
      "    \u001b[0;32mdef\u001b[0m \u001b[0muniform\u001b[0m\u001b[0;34m(\u001b[0m\u001b[0mself\u001b[0m\u001b[0;34m,\u001b[0m \u001b[0ma\u001b[0m\u001b[0;34m,\u001b[0m \u001b[0mb\u001b[0m\u001b[0;34m)\u001b[0m\u001b[0;34m:\u001b[0m\u001b[0;34m\u001b[0m\n",
      "\u001b[0;34m\u001b[0m        \u001b[0;34m\"Get a random number in the range [a, b) or [a, b] depending on rounding.\"\u001b[0m\u001b[0;34m\u001b[0m\n",
      "\u001b[0;34m\u001b[0m        \u001b[0;32mreturn\u001b[0m \u001b[0ma\u001b[0m \u001b[0;34m+\u001b[0m \u001b[0;34m(\u001b[0m\u001b[0mb\u001b[0m \u001b[0;34m-\u001b[0m \u001b[0ma\u001b[0m\u001b[0;34m)\u001b[0m \u001b[0;34m*\u001b[0m \u001b[0mself\u001b[0m\u001b[0;34m.\u001b[0m\u001b[0mrandom\u001b[0m\u001b[0;34m(\u001b[0m\u001b[0;34m)\u001b[0m\u001b[0;34m\u001b[0m\u001b[0;34m\u001b[0m\u001b[0m\n",
      "\u001b[0;31mFile:\u001b[0m      /opt/anaconda3/lib/python3.9/random.py\n",
      "\u001b[0;31mType:\u001b[0m      method\n"
     ]
    }
   ],
   "source": [
    "import random\n",
    "random.uniform(-1, 1)\n",
    "??random.uniform"
   ]
  },
  {
   "cell_type": "code",
   "execution_count": 68,
   "metadata": {},
   "outputs": [],
   "source": [
    "import numpy as np"
   ]
  },
  {
   "cell_type": "code",
   "execution_count": 69,
   "metadata": {},
   "outputs": [],
   "source": [
    "class Neuron:\n",
    "\n",
    "    def __init__(self, nin):\n",
    "        self.w = [Value(random.uniform(-1, 1)) for _ in range(nin)]\n",
    "        self.b = Value(random.uniform(-1, 1))\n",
    "    \n",
    "    def __call__(self, x):\n",
    "        act = sum((xi*wi for wi, xi in zip(self.w, x)), self.b)\n",
    "        return act.tanh()\n",
    "    \n",
    "    def parameters(self):\n",
    "        return [self.b] + self.w\n",
    "\n",
    "class Layer:\n",
    "\n",
    "    def __init__(self, nin, nout):\n",
    "        self.neurons = [Neuron(nin) for _ in range(nout)]\n",
    "    \n",
    "    def __call__(self, x):\n",
    "        outs = [n(x) for n in self.neurons]\n",
    "        return outs[0] if len(outs) == 1 else outs\n",
    "    \n",
    "    def parameters(self):\n",
    "        return [p for neuron in self.neurons for p in neuron.parameters()]\n",
    "\n",
    "class MLP:\n",
    "\n",
    "    def __init__(self, nin, nout):\n",
    "        layer_dims = [nin] + nout\n",
    "        self.layers = [Layer(layer_dims[i], layer_dims[i+1]) for i in range(len(nout))]\n",
    "    \n",
    "    def __call__(self, x):\n",
    "        for l in self.layers:\n",
    "            x = l(x)\n",
    "        \n",
    "        return x\n",
    "    \n",
    "    def parameters(self):\n",
    "        return [p for layer in self.layers for p in layer.parameters()]"
   ]
  },
  {
   "cell_type": "code",
   "execution_count": 70,
   "metadata": {},
   "outputs": [
    {
     "data": {
      "text/plain": [
       "Value(data=-0.9437216387003834, label=)"
      ]
     },
     "execution_count": 70,
     "metadata": {},
     "output_type": "execute_result"
    }
   ],
   "source": [
    "x = [1, 2, 3]\n",
    "mlp1 = MLP(len(x), [3, 3, 1])\n",
    "mlp1(x)"
   ]
  },
  {
   "cell_type": "code",
   "execution_count": null,
   "metadata": {},
   "outputs": [],
   "source": []
  },
  {
   "cell_type": "code",
   "execution_count": 71,
   "metadata": {},
   "outputs": [],
   "source": [
    "xs = [\n",
    "  [2.0, 3.0, -1.0],\n",
    "  [3.0, -1.0, 0.5],\n",
    "  [0.5, 1.0, 1.0],\n",
    "  [1.0, 1.0, -1.0],\n",
    "]\n",
    "ys = [1.0, -1.0, -1.0, 1.0] # desired targets"
   ]
  },
  {
   "cell_type": "code",
   "execution_count": 83,
   "metadata": {},
   "outputs": [
    {
     "name": "stdout",
     "output_type": "stream",
     "text": [
      "0 0.0016354610509373524\n",
      "1 0.0016248214833119179\n",
      "2 0.001614228785395967\n",
      "3 0.0016047587223764618\n",
      "4 0.0015944544561142474\n",
      "5 0.001585112014053599\n",
      "6 0.0015750061525211692\n",
      "7 0.001565865176038662\n",
      "8 0.001556017563485734\n",
      "9 0.0015464042374064948\n",
      "10 0.0015368611993488842\n",
      "11 0.0015281449089078933\n",
      "12 0.0015194357833536204\n",
      "13 0.0015108989717602147\n",
      "14 0.0015018878950459824\n",
      "15 0.0014929602792159665\n",
      "16 0.0014840957792298785\n",
      "17 0.0014754624582867556\n",
      "18 0.0014668686832351148\n",
      "19 0.00145893582430377\n",
      "20 0.001451141980036006\n",
      "21 0.0014427292515976416\n",
      "22 0.0014344241182450502\n",
      "23 0.0014267368478743617\n",
      "24 0.0014193048419467724\n",
      "25 0.0014118117995832518\n",
      "26 0.0014039925830698417\n",
      "27 0.0013966496869941615\n",
      "28 0.001388851186719559\n",
      "29 0.0013812257757926643\n",
      "30 0.0013741413110108975\n",
      "31 0.0013666878405422722\n",
      "32 0.0013594000610583313\n",
      "33 0.001352078970692099\n",
      "34 0.0013447884087034226\n",
      "35 0.0013381621491145113\n",
      "36 0.0013315716562252505\n",
      "37 0.0013245529958194036\n",
      "38 0.0013175969601554754\n",
      "39 0.0013107344923489433\n",
      "40 0.0013044448253734559\n",
      "41 0.0012981547236261735\n",
      "42 0.0012919223525201138\n",
      "43 0.0012857688522949153\n",
      "44 0.0012797341837689834\n",
      "45 0.0012736692315519368\n",
      "46 0.0012672585568125664\n",
      "47 0.0012609036121551888\n",
      "48 0.0012546752176460082\n",
      "49 0.0012488624140004866\n",
      "50 0.0012426655537802291\n",
      "51 0.00123694473278545\n",
      "52 0.0012312336412610438\n",
      "53 0.0012253029184218444\n",
      "54 0.001219337981226773\n",
      "55 0.0012134090090260615\n",
      "56 0.0012079980323763163\n",
      "57 0.001202244438305573\n",
      "58 0.0011965592940325947\n",
      "59 0.0011911943312536198\n",
      "60 0.0011858981804938292\n",
      "61 0.0011807008335467254\n",
      "62 0.00117516188376368\n",
      "63 0.0011696840981710388\n",
      "64 0.0011643265811253415\n",
      "65 0.0011589818957965068\n",
      "66 0.0011536759846709824\n",
      "67 0.001148703743907241\n",
      "68 0.0011438084278294464\n",
      "69 0.0011387024850659858\n",
      "70 0.001133878588025306\n",
      "71 0.0011288075308988421\n",
      "72 0.0011237196369255963\n",
      "73 0.0011190548872874405\n",
      "74 0.0011143427839922018\n",
      "75 0.0011094942792898082\n",
      "76 0.0011049738426913073\n",
      "77 0.0011003878048351742\n",
      "78 0.0010956751762517362\n",
      "79 0.0010909892839132212\n",
      "80 0.001086497318177948\n",
      "81 0.0010818494650124844\n",
      "82 0.001077222143198787\n",
      "83 0.0010729314694827596\n",
      "84 0.0010683460530965681\n",
      "85 0.0010640844288566798\n",
      "86 0.0010595727514479507\n",
      "87 0.0010551962245261147\n",
      "88 0.0010509848695770525\n",
      "89 0.0010468576418216648\n",
      "90 0.0010427416144187696\n",
      "91 0.0010386554967272553\n",
      "92 0.0010345971101147012\n",
      "93 0.001030567692496735\n",
      "94 0.0010265777026067238\n",
      "95 0.0010223795818659475\n",
      "96 0.0010182105843827953\n",
      "97 0.0010143211598777923\n",
      "98 0.001010465941214861\n",
      "99 0.001006611491990137\n",
      "100 0.0010028289190677933\n",
      "101 0.0009988092731372175\n",
      "102 0.0009950613106946013\n",
      "103 0.0009911210851080293\n",
      "104 0.0009872341743789859\n",
      "105 0.0009833417050870833\n",
      "106 0.0009797254430396877\n",
      "107 0.0009758733217472691\n",
      "108 0.0009723270333954234\n",
      "109 0.0009685592665471966\n",
      "110 0.0009650956970413567\n",
      "111 0.0009615706441780606\n",
      "112 0.0009580773532832469\n",
      "113 0.0009546829123705253\n",
      "114 0.0009510290708076743\n",
      "115 0.0009474315502327603\n",
      "116 0.0009438524317188144\n",
      "117 0.0009403548730234332\n",
      "118 0.0009370026037200088\n",
      "119 0.0009336841114028824\n",
      "120 0.0009303914514770288\n",
      "121 0.0009271334131744744\n",
      "122 0.000923884240475811\n",
      "123 0.0009205251863636835\n",
      "124 0.0009172104036377022\n",
      "125 0.0009138549512029907\n",
      "126 0.0009106820300483465\n",
      "127 0.000907533584756497\n",
      "128 0.0009044398197442015\n",
      "129 0.0009011602714963443\n",
      "130 0.0008980812534857192\n",
      "131 0.0008950355117455009\n",
      "132 0.0008920553528547624\n",
      "133 0.0008888471928551361\n",
      "134 0.0008856774236013279\n",
      "135 0.0008826777519510586\n",
      "136 0.0008796988581461064\n",
      "137 0.0008767395847602171\n",
      "138 0.0008738284730600832\n",
      "139 0.0008709811338995623\n",
      "140 0.0008679321422237086\n",
      "141 0.0008649109150564486\n",
      "142 0.0008618872233405176\n",
      "143 0.000859114601528096\n",
      "144 0.0008563152937225409\n",
      "145 0.0008533611535523567\n",
      "146 0.0008506329270751266\n",
      "147 0.0008478508627301192\n",
      "148 0.0008449610197300917\n",
      "149 0.0008423026047753147\n",
      "150 0.0008394601178659992\n",
      "151 0.0008367654034147063\n",
      "152 0.0008340698207515614\n",
      "153 0.0008314206945698073\n",
      "154 0.0008287053812544372\n",
      "155 0.0008260872297997598\n",
      "156 0.0008235241539962992\n",
      "157 0.0008210049951961342\n",
      "158 0.000818501287286982\n",
      "159 0.0008157818976514473\n",
      "160 0.0008131042333930388\n",
      "161 0.0008105659517210484\n",
      "162 0.000808106020334959\n",
      "163 0.000805474640112138\n",
      "164 0.0008028397199136492\n",
      "165 0.0008004319735666894\n",
      "166 0.0007979124083070672\n",
      "167 0.0007953298139957931\n",
      "168 0.000792908591795395\n",
      "169 0.0007904795452282197\n",
      "170 0.000787955656380769\n",
      "171 0.0007854193195544991\n",
      "172 0.0007830473253336956\n",
      "173 0.0007806839197711376\n",
      "174 0.0007783250204837101\n",
      "175 0.0007758727785820163\n",
      "176 0.0007735509745684297\n",
      "177 0.0007712532688015506\n",
      "178 0.0007690154164879117\n",
      "179 0.000766681897290061\n",
      "180 0.0007642972189215313\n",
      "181 0.0007619254877580424\n",
      "182 0.0007595672575072398\n",
      "183 0.0007572078256932696\n",
      "184 0.0007550037832394031\n",
      "185 0.0007527465636944904\n",
      "186 0.000750557657319304\n",
      "187 0.0007482542091312345\n",
      "188 0.0007461560375658026\n",
      "189 0.0007439974638809668\n",
      "190 0.0007418597304698713\n",
      "191 0.0007396094714285752\n",
      "192 0.0007373904753924105\n",
      "193 0.0007351641499750543\n",
      "194 0.0007330751158900383\n",
      "195 0.0007308890193625692\n",
      "196 0.0007286883234302718\n",
      "197 0.000726536776058891\n",
      "198 0.0007244991027717885\n",
      "199 0.0007223562676463326\n"
     ]
    }
   ],
   "source": [
    "lr = 0.1\n",
    "\n",
    "for i in range(200):\n",
    "    # fwd pass\n",
    "    ypred = [mlp1(x) for x in xs]\n",
    "    loss = sum((y_h - yi)**2 for y_h, yi in zip(ypred, ys))\n",
    "    # zero grad\n",
    "    for p in mlp1.parameters():\n",
    "        p.grad = 0\n",
    "    # backward\n",
    "    loss.backward()\n",
    "    # update params\n",
    "    for p in mlp1.parameters():\n",
    "        # print(f\"grad is {p.grad}\")\n",
    "        p.data += -lr * p.grad\n",
    "    \n",
    "    print(i, loss.data)"
   ]
  },
  {
   "cell_type": "code",
   "execution_count": 84,
   "metadata": {},
   "outputs": [
    {
     "data": {
      "text/plain": [
       "[Value(data=0.9847738472472963, label=),\n",
       " Value(data=-0.9878616812807567, label=),\n",
       " Value(data=-0.9916081751890476, label=),\n",
       " Value(data=0.9834845819002358, label=)]"
      ]
     },
     "execution_count": 84,
     "metadata": {},
     "output_type": "execute_result"
    }
   ],
   "source": [
    "ypred"
   ]
  },
  {
   "cell_type": "code",
   "execution_count": null,
   "metadata": {},
   "outputs": [],
   "source": []
  }
 ],
 "metadata": {
  "kernelspec": {
   "display_name": "Python 3",
   "language": "python",
   "name": "python3"
  },
  "language_info": {
   "codemirror_mode": {
    "name": "ipython",
    "version": 3
   },
   "file_extension": ".py",
   "mimetype": "text/x-python",
   "name": "python",
   "nbconvert_exporter": "python",
   "pygments_lexer": "ipython3",
   "version": "3.9.12"
  },
  "orig_nbformat": 4
 },
 "nbformat": 4,
 "nbformat_minor": 2
}
